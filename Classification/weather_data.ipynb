{
 "cells": [
  {
   "cell_type": "code",
   "execution_count": 1,
   "metadata": {},
   "outputs": [],
   "source": [
    "import pandas as pd\n",
    "import numpy as np\n",
    "import matplotlib.pyplot as plt\n",
    "import seaborn as sns\n",
    "import warnings\n",
    "warnings.filterwarnings(action = \"ignore\")"
   ]
  },
  {
   "cell_type": "code",
   "execution_count": 2,
   "metadata": {},
   "outputs": [
    {
     "data": {
      "text/html": [
       "<div>\n",
       "<style scoped>\n",
       "    .dataframe tbody tr th:only-of-type {\n",
       "        vertical-align: middle;\n",
       "    }\n",
       "\n",
       "    .dataframe tbody tr th {\n",
       "        vertical-align: top;\n",
       "    }\n",
       "\n",
       "    .dataframe thead th {\n",
       "        text-align: right;\n",
       "    }\n",
       "</style>\n",
       "<table border=\"1\" class=\"dataframe\">\n",
       "  <thead>\n",
       "    <tr style=\"text-align: right;\">\n",
       "      <th></th>\n",
       "      <th>Temperature</th>\n",
       "      <th>Humidity</th>\n",
       "      <th>Wind_Speed</th>\n",
       "      <th>Cloud_Cover</th>\n",
       "      <th>Pressure</th>\n",
       "      <th>Rain</th>\n",
       "    </tr>\n",
       "  </thead>\n",
       "  <tbody>\n",
       "    <tr>\n",
       "      <th>0</th>\n",
       "      <td>23.720338</td>\n",
       "      <td>89.592641</td>\n",
       "      <td>7.335604</td>\n",
       "      <td>50.501694</td>\n",
       "      <td>1032.378759</td>\n",
       "      <td>rain</td>\n",
       "    </tr>\n",
       "    <tr>\n",
       "      <th>1</th>\n",
       "      <td>27.879734</td>\n",
       "      <td>46.489704</td>\n",
       "      <td>5.952484</td>\n",
       "      <td>4.990053</td>\n",
       "      <td>992.614190</td>\n",
       "      <td>no rain</td>\n",
       "    </tr>\n",
       "    <tr>\n",
       "      <th>2</th>\n",
       "      <td>25.069084</td>\n",
       "      <td>83.072843</td>\n",
       "      <td>1.371992</td>\n",
       "      <td>14.855784</td>\n",
       "      <td>1007.231620</td>\n",
       "      <td>no rain</td>\n",
       "    </tr>\n",
       "    <tr>\n",
       "      <th>3</th>\n",
       "      <td>23.622080</td>\n",
       "      <td>74.367758</td>\n",
       "      <td>7.050551</td>\n",
       "      <td>67.255282</td>\n",
       "      <td>982.632013</td>\n",
       "      <td>rain</td>\n",
       "    </tr>\n",
       "    <tr>\n",
       "      <th>4</th>\n",
       "      <td>20.591370</td>\n",
       "      <td>96.858822</td>\n",
       "      <td>4.643921</td>\n",
       "      <td>47.676444</td>\n",
       "      <td>980.825142</td>\n",
       "      <td>no rain</td>\n",
       "    </tr>\n",
       "    <tr>\n",
       "      <th>...</th>\n",
       "      <td>...</td>\n",
       "      <td>...</td>\n",
       "      <td>...</td>\n",
       "      <td>...</td>\n",
       "      <td>...</td>\n",
       "      <td>...</td>\n",
       "    </tr>\n",
       "    <tr>\n",
       "      <th>2495</th>\n",
       "      <td>21.791602</td>\n",
       "      <td>45.270902</td>\n",
       "      <td>11.807192</td>\n",
       "      <td>55.044682</td>\n",
       "      <td>1017.686181</td>\n",
       "      <td>no rain</td>\n",
       "    </tr>\n",
       "    <tr>\n",
       "      <th>2496</th>\n",
       "      <td>27.558479</td>\n",
       "      <td>46.481744</td>\n",
       "      <td>10.884915</td>\n",
       "      <td>39.715133</td>\n",
       "      <td>1008.590961</td>\n",
       "      <td>no rain</td>\n",
       "    </tr>\n",
       "    <tr>\n",
       "      <th>2497</th>\n",
       "      <td>28.108274</td>\n",
       "      <td>43.817178</td>\n",
       "      <td>2.897128</td>\n",
       "      <td>75.842952</td>\n",
       "      <td>999.119187</td>\n",
       "      <td>no rain</td>\n",
       "    </tr>\n",
       "    <tr>\n",
       "      <th>2498</th>\n",
       "      <td>14.789275</td>\n",
       "      <td>57.908105</td>\n",
       "      <td>2.374717</td>\n",
       "      <td>2.378743</td>\n",
       "      <td>1046.501875</td>\n",
       "      <td>no rain</td>\n",
       "    </tr>\n",
       "    <tr>\n",
       "      <th>2499</th>\n",
       "      <td>26.554356</td>\n",
       "      <td>97.101517</td>\n",
       "      <td>18.563084</td>\n",
       "      <td>81.357508</td>\n",
       "      <td>1001.729176</td>\n",
       "      <td>no rain</td>\n",
       "    </tr>\n",
       "  </tbody>\n",
       "</table>\n",
       "<p>2500 rows × 6 columns</p>\n",
       "</div>"
      ],
      "text/plain": [
       "      Temperature   Humidity  Wind_Speed  Cloud_Cover     Pressure     Rain\n",
       "0       23.720338  89.592641    7.335604    50.501694  1032.378759     rain\n",
       "1       27.879734  46.489704    5.952484     4.990053   992.614190  no rain\n",
       "2       25.069084  83.072843    1.371992    14.855784  1007.231620  no rain\n",
       "3       23.622080  74.367758    7.050551    67.255282   982.632013     rain\n",
       "4       20.591370  96.858822    4.643921    47.676444   980.825142  no rain\n",
       "...           ...        ...         ...          ...          ...      ...\n",
       "2495    21.791602  45.270902   11.807192    55.044682  1017.686181  no rain\n",
       "2496    27.558479  46.481744   10.884915    39.715133  1008.590961  no rain\n",
       "2497    28.108274  43.817178    2.897128    75.842952   999.119187  no rain\n",
       "2498    14.789275  57.908105    2.374717     2.378743  1046.501875  no rain\n",
       "2499    26.554356  97.101517   18.563084    81.357508  1001.729176  no rain\n",
       "\n",
       "[2500 rows x 6 columns]"
      ]
     },
     "execution_count": 2,
     "metadata": {},
     "output_type": "execute_result"
    }
   ],
   "source": [
    "df = pd.read_csv(\"/home/yeajin/Data_practice/Classification/weather_forecast_data.csv\")\n",
    "df"
   ]
  },
  {
   "cell_type": "code",
   "execution_count": 3,
   "metadata": {},
   "outputs": [
    {
     "name": "stdout",
     "output_type": "stream",
     "text": [
      "<class 'pandas.core.frame.DataFrame'>\n",
      "RangeIndex: 2500 entries, 0 to 2499\n",
      "Data columns (total 6 columns):\n",
      " #   Column       Non-Null Count  Dtype  \n",
      "---  ------       --------------  -----  \n",
      " 0   Temperature  2500 non-null   float64\n",
      " 1   Humidity     2500 non-null   float64\n",
      " 2   Wind_Speed   2500 non-null   float64\n",
      " 3   Cloud_Cover  2500 non-null   float64\n",
      " 4   Pressure     2500 non-null   float64\n",
      " 5   Rain         2500 non-null   object \n",
      "dtypes: float64(5), object(1)\n",
      "memory usage: 117.3+ KB\n"
     ]
    },
    {
     "data": {
      "text/html": [
       "<div>\n",
       "<style scoped>\n",
       "    .dataframe tbody tr th:only-of-type {\n",
       "        vertical-align: middle;\n",
       "    }\n",
       "\n",
       "    .dataframe tbody tr th {\n",
       "        vertical-align: top;\n",
       "    }\n",
       "\n",
       "    .dataframe thead th {\n",
       "        text-align: right;\n",
       "    }\n",
       "</style>\n",
       "<table border=\"1\" class=\"dataframe\">\n",
       "  <thead>\n",
       "    <tr style=\"text-align: right;\">\n",
       "      <th></th>\n",
       "      <th>Temperature</th>\n",
       "      <th>Humidity</th>\n",
       "      <th>Wind_Speed</th>\n",
       "      <th>Cloud_Cover</th>\n",
       "      <th>Pressure</th>\n",
       "    </tr>\n",
       "  </thead>\n",
       "  <tbody>\n",
       "    <tr>\n",
       "      <th>count</th>\n",
       "      <td>2500.000000</td>\n",
       "      <td>2500.000000</td>\n",
       "      <td>2500.000000</td>\n",
       "      <td>2500.000000</td>\n",
       "      <td>2500.000000</td>\n",
       "    </tr>\n",
       "    <tr>\n",
       "      <th>mean</th>\n",
       "      <td>22.581725</td>\n",
       "      <td>64.347094</td>\n",
       "      <td>9.906255</td>\n",
       "      <td>49.658104</td>\n",
       "      <td>1014.312336</td>\n",
       "    </tr>\n",
       "    <tr>\n",
       "      <th>std</th>\n",
       "      <td>7.326996</td>\n",
       "      <td>19.954739</td>\n",
       "      <td>5.780316</td>\n",
       "      <td>29.123104</td>\n",
       "      <td>20.196433</td>\n",
       "    </tr>\n",
       "    <tr>\n",
       "      <th>min</th>\n",
       "      <td>10.001842</td>\n",
       "      <td>30.005071</td>\n",
       "      <td>0.009819</td>\n",
       "      <td>0.015038</td>\n",
       "      <td>980.014486</td>\n",
       "    </tr>\n",
       "    <tr>\n",
       "      <th>25%</th>\n",
       "      <td>16.359398</td>\n",
       "      <td>47.339815</td>\n",
       "      <td>4.761909</td>\n",
       "      <td>23.900016</td>\n",
       "      <td>996.938630</td>\n",
       "    </tr>\n",
       "    <tr>\n",
       "      <th>50%</th>\n",
       "      <td>22.536448</td>\n",
       "      <td>63.920797</td>\n",
       "      <td>9.908572</td>\n",
       "      <td>49.488284</td>\n",
       "      <td>1013.433035</td>\n",
       "    </tr>\n",
       "    <tr>\n",
       "      <th>75%</th>\n",
       "      <td>28.976476</td>\n",
       "      <td>81.561021</td>\n",
       "      <td>14.948408</td>\n",
       "      <td>75.324140</td>\n",
       "      <td>1031.735067</td>\n",
       "    </tr>\n",
       "    <tr>\n",
       "      <th>max</th>\n",
       "      <td>34.995214</td>\n",
       "      <td>99.997481</td>\n",
       "      <td>19.999132</td>\n",
       "      <td>99.997795</td>\n",
       "      <td>1049.985593</td>\n",
       "    </tr>\n",
       "  </tbody>\n",
       "</table>\n",
       "</div>"
      ],
      "text/plain": [
       "       Temperature     Humidity   Wind_Speed  Cloud_Cover     Pressure\n",
       "count  2500.000000  2500.000000  2500.000000  2500.000000  2500.000000\n",
       "mean     22.581725    64.347094     9.906255    49.658104  1014.312336\n",
       "std       7.326996    19.954739     5.780316    29.123104    20.196433\n",
       "min      10.001842    30.005071     0.009819     0.015038   980.014486\n",
       "25%      16.359398    47.339815     4.761909    23.900016   996.938630\n",
       "50%      22.536448    63.920797     9.908572    49.488284  1013.433035\n",
       "75%      28.976476    81.561021    14.948408    75.324140  1031.735067\n",
       "max      34.995214    99.997481    19.999132    99.997795  1049.985593"
      ]
     },
     "execution_count": 3,
     "metadata": {},
     "output_type": "execute_result"
    }
   ],
   "source": [
    "df.info()\n",
    "df.describe()"
   ]
  },
  {
   "cell_type": "code",
   "execution_count": 9,
   "metadata": {},
   "outputs": [
    {
     "data": {
      "text/plain": [
       "no rain    2186\n",
       "rain        314\n",
       "Name: Rain, dtype: int64"
      ]
     },
     "execution_count": 9,
     "metadata": {},
     "output_type": "execute_result"
    }
   ],
   "source": [
    "df['Rain'].value_counts()"
   ]
  },
  {
   "cell_type": "code",
   "execution_count": 4,
   "metadata": {},
   "outputs": [
    {
     "data": {
      "text/html": [
       "<div>\n",
       "<style scoped>\n",
       "    .dataframe tbody tr th:only-of-type {\n",
       "        vertical-align: middle;\n",
       "    }\n",
       "\n",
       "    .dataframe tbody tr th {\n",
       "        vertical-align: top;\n",
       "    }\n",
       "\n",
       "    .dataframe thead th {\n",
       "        text-align: right;\n",
       "    }\n",
       "</style>\n",
       "<table border=\"1\" class=\"dataframe\">\n",
       "  <thead>\n",
       "    <tr style=\"text-align: right;\">\n",
       "      <th></th>\n",
       "      <th>Temperature</th>\n",
       "      <th>Humidity</th>\n",
       "      <th>Wind_Speed</th>\n",
       "      <th>Cloud_Cover</th>\n",
       "      <th>Pressure</th>\n",
       "      <th>Rain</th>\n",
       "    </tr>\n",
       "  </thead>\n",
       "  <tbody>\n",
       "    <tr>\n",
       "      <th>0</th>\n",
       "      <td>23.720338</td>\n",
       "      <td>89.592641</td>\n",
       "      <td>7.335604</td>\n",
       "      <td>50.501694</td>\n",
       "      <td>1032.378759</td>\n",
       "      <td>1</td>\n",
       "    </tr>\n",
       "    <tr>\n",
       "      <th>1</th>\n",
       "      <td>27.879734</td>\n",
       "      <td>46.489704</td>\n",
       "      <td>5.952484</td>\n",
       "      <td>4.990053</td>\n",
       "      <td>992.614190</td>\n",
       "      <td>0</td>\n",
       "    </tr>\n",
       "    <tr>\n",
       "      <th>2</th>\n",
       "      <td>25.069084</td>\n",
       "      <td>83.072843</td>\n",
       "      <td>1.371992</td>\n",
       "      <td>14.855784</td>\n",
       "      <td>1007.231620</td>\n",
       "      <td>0</td>\n",
       "    </tr>\n",
       "    <tr>\n",
       "      <th>3</th>\n",
       "      <td>23.622080</td>\n",
       "      <td>74.367758</td>\n",
       "      <td>7.050551</td>\n",
       "      <td>67.255282</td>\n",
       "      <td>982.632013</td>\n",
       "      <td>1</td>\n",
       "    </tr>\n",
       "    <tr>\n",
       "      <th>4</th>\n",
       "      <td>20.591370</td>\n",
       "      <td>96.858822</td>\n",
       "      <td>4.643921</td>\n",
       "      <td>47.676444</td>\n",
       "      <td>980.825142</td>\n",
       "      <td>0</td>\n",
       "    </tr>\n",
       "    <tr>\n",
       "      <th>...</th>\n",
       "      <td>...</td>\n",
       "      <td>...</td>\n",
       "      <td>...</td>\n",
       "      <td>...</td>\n",
       "      <td>...</td>\n",
       "      <td>...</td>\n",
       "    </tr>\n",
       "    <tr>\n",
       "      <th>2495</th>\n",
       "      <td>21.791602</td>\n",
       "      <td>45.270902</td>\n",
       "      <td>11.807192</td>\n",
       "      <td>55.044682</td>\n",
       "      <td>1017.686181</td>\n",
       "      <td>0</td>\n",
       "    </tr>\n",
       "    <tr>\n",
       "      <th>2496</th>\n",
       "      <td>27.558479</td>\n",
       "      <td>46.481744</td>\n",
       "      <td>10.884915</td>\n",
       "      <td>39.715133</td>\n",
       "      <td>1008.590961</td>\n",
       "      <td>0</td>\n",
       "    </tr>\n",
       "    <tr>\n",
       "      <th>2497</th>\n",
       "      <td>28.108274</td>\n",
       "      <td>43.817178</td>\n",
       "      <td>2.897128</td>\n",
       "      <td>75.842952</td>\n",
       "      <td>999.119187</td>\n",
       "      <td>0</td>\n",
       "    </tr>\n",
       "    <tr>\n",
       "      <th>2498</th>\n",
       "      <td>14.789275</td>\n",
       "      <td>57.908105</td>\n",
       "      <td>2.374717</td>\n",
       "      <td>2.378743</td>\n",
       "      <td>1046.501875</td>\n",
       "      <td>0</td>\n",
       "    </tr>\n",
       "    <tr>\n",
       "      <th>2499</th>\n",
       "      <td>26.554356</td>\n",
       "      <td>97.101517</td>\n",
       "      <td>18.563084</td>\n",
       "      <td>81.357508</td>\n",
       "      <td>1001.729176</td>\n",
       "      <td>0</td>\n",
       "    </tr>\n",
       "  </tbody>\n",
       "</table>\n",
       "<p>2500 rows × 6 columns</p>\n",
       "</div>"
      ],
      "text/plain": [
       "      Temperature   Humidity  Wind_Speed  Cloud_Cover     Pressure  Rain\n",
       "0       23.720338  89.592641    7.335604    50.501694  1032.378759     1\n",
       "1       27.879734  46.489704    5.952484     4.990053   992.614190     0\n",
       "2       25.069084  83.072843    1.371992    14.855784  1007.231620     0\n",
       "3       23.622080  74.367758    7.050551    67.255282   982.632013     1\n",
       "4       20.591370  96.858822    4.643921    47.676444   980.825142     0\n",
       "...           ...        ...         ...          ...          ...   ...\n",
       "2495    21.791602  45.270902   11.807192    55.044682  1017.686181     0\n",
       "2496    27.558479  46.481744   10.884915    39.715133  1008.590961     0\n",
       "2497    28.108274  43.817178    2.897128    75.842952   999.119187     0\n",
       "2498    14.789275  57.908105    2.374717     2.378743  1046.501875     0\n",
       "2499    26.554356  97.101517   18.563084    81.357508  1001.729176     0\n",
       "\n",
       "[2500 rows x 6 columns]"
      ]
     },
     "execution_count": 4,
     "metadata": {},
     "output_type": "execute_result"
    }
   ],
   "source": [
    "df['Rain'] = df['Rain'].replace({ 'no rain': 0, 'rain': 1})\n",
    "df"
   ]
  },
  {
   "cell_type": "code",
   "execution_count": 13,
   "metadata": {},
   "outputs": [
    {
     "data": {
      "text/plain": [
       "<bound method Series.sort_values of Temperature   -0.265882\n",
       "Humidity       0.382464\n",
       "Wind_Speed    -0.001389\n",
       "Cloud_Cover    0.326216\n",
       "Pressure       0.008273\n",
       "Rain           1.000000\n",
       "Name: Rain, dtype: float64>"
      ]
     },
     "execution_count": 13,
     "metadata": {},
     "output_type": "execute_result"
    }
   ],
   "source": [
    "corr = df.corr()\n",
    "corr['Rain'].sort_values"
   ]
  },
  {
   "cell_type": "code",
   "execution_count": 14,
   "metadata": {},
   "outputs": [
    {
     "data": {
      "text/plain": [
       "<AxesSubplot: >"
      ]
     },
     "execution_count": 14,
     "metadata": {},
     "output_type": "execute_result"
    },
    {
     "data": {
      "image/png": "[encoded data removed]",
      "text/plain": [
       "<Figure size 640x480 with 2 Axes>"
      ]
     },
     "metadata": {},
     "output_type": "display_data"
    }
   ],
   "source": [
    "sns.heatmap(corr)"
   ]
  },
  {
   "cell_type": "markdown",
   "metadata": {},
   "source": [
    "* Humidity, Cloud_Cover 컬럼 상관계수 낮지만 일단 보류"
   ]
  },
  {
   "cell_type": "code",
   "execution_count": 5,
   "metadata": {},
   "outputs": [
    {
     "data": {
      "image/png": "[encoded data removed]",
      "text/plain": [
       "<Figure size 2500x1000 with 6 Axes>"
      ]
     },
     "metadata": {},
     "output_type": "display_data"
    }
   ],
   "source": [
    "#데이터 시각화 \n",
    "\n",
    "cols = df.columns\n",
    "\n",
    "fig, axis = plt.subplots(1, 6, figsize=(25, 10))\n",
    "\n",
    "i = 1\n",
    "for col in cols:\n",
    "    plt.subplot(1, 6, i)\n",
    "    plt.hist(df[col], bins=100)\n",
    "    plt.title(col)\n",
    "    i+=1"
   ]
  },
  {
   "cell_type": "code",
   "execution_count": 7,
   "metadata": {},
   "outputs": [
    {
     "data": {
      "image/png": "[encoded data removed]",
      "text/plain": [
       "<Figure size 2500x1000 with 6 Axes>"
      ]
     },
     "metadata": {},
     "output_type": "display_data"
    }
   ],
   "source": [
    "fig, axis = plt.subplots(1, 6, figsize=(25, 10))\n",
    "\n",
    "for  i, (col, ax) in enumerate(zip(cols, axis)):\n",
    "    plt.subplot(1, 6, i+1)\n",
    "    plt.boxplot(df[col])\n",
    "    plt.title(col)"
   ]
  },
  {
   "cell_type": "code",
   "execution_count": 23,
   "metadata": {},
   "outputs": [
    {
     "data": {
      "text/html": [
       "<div>\n",
       "<style scoped>\n",
       "    .dataframe tbody tr th:only-of-type {\n",
       "        vertical-align: middle;\n",
       "    }\n",
       "\n",
       "    .dataframe tbody tr th {\n",
       "        vertical-align: top;\n",
       "    }\n",
       "\n",
       "    .dataframe thead th {\n",
       "        text-align: right;\n",
       "    }\n",
       "</style>\n",
       "<table border=\"1\" class=\"dataframe\">\n",
       "  <thead>\n",
       "    <tr style=\"text-align: right;\">\n",
       "      <th></th>\n",
       "      <th>Temperature</th>\n",
       "      <th>Humidity</th>\n",
       "      <th>Wind_Speed</th>\n",
       "      <th>Cloud_Cover</th>\n",
       "      <th>Pressure</th>\n",
       "      <th>Rain</th>\n",
       "    </tr>\n",
       "  </thead>\n",
       "  <tbody>\n",
       "    <tr>\n",
       "      <th>0</th>\n",
       "      <td>23.720338</td>\n",
       "      <td>89.592641</td>\n",
       "      <td>7.335604</td>\n",
       "      <td>50.501694</td>\n",
       "      <td>6.939621</td>\n",
       "      <td>1</td>\n",
       "    </tr>\n",
       "    <tr>\n",
       "      <th>1</th>\n",
       "      <td>27.879734</td>\n",
       "      <td>46.489704</td>\n",
       "      <td>5.952484</td>\n",
       "      <td>4.990053</td>\n",
       "      <td>6.900342</td>\n",
       "      <td>0</td>\n",
       "    </tr>\n",
       "    <tr>\n",
       "      <th>2</th>\n",
       "      <td>25.069084</td>\n",
       "      <td>83.072843</td>\n",
       "      <td>1.371992</td>\n",
       "      <td>14.855784</td>\n",
       "      <td>6.914961</td>\n",
       "      <td>0</td>\n",
       "    </tr>\n",
       "    <tr>\n",
       "      <th>3</th>\n",
       "      <td>23.622080</td>\n",
       "      <td>74.367758</td>\n",
       "      <td>7.050551</td>\n",
       "      <td>67.255282</td>\n",
       "      <td>6.890235</td>\n",
       "      <td>1</td>\n",
       "    </tr>\n",
       "    <tr>\n",
       "      <th>4</th>\n",
       "      <td>20.591370</td>\n",
       "      <td>96.858822</td>\n",
       "      <td>4.643921</td>\n",
       "      <td>47.676444</td>\n",
       "      <td>6.888394</td>\n",
       "      <td>0</td>\n",
       "    </tr>\n",
       "    <tr>\n",
       "      <th>...</th>\n",
       "      <td>...</td>\n",
       "      <td>...</td>\n",
       "      <td>...</td>\n",
       "      <td>...</td>\n",
       "      <td>...</td>\n",
       "      <td>...</td>\n",
       "    </tr>\n",
       "    <tr>\n",
       "      <th>2495</th>\n",
       "      <td>21.791602</td>\n",
       "      <td>45.270902</td>\n",
       "      <td>11.807192</td>\n",
       "      <td>55.044682</td>\n",
       "      <td>6.925287</td>\n",
       "      <td>0</td>\n",
       "    </tr>\n",
       "    <tr>\n",
       "      <th>2496</th>\n",
       "      <td>27.558479</td>\n",
       "      <td>46.481744</td>\n",
       "      <td>10.884915</td>\n",
       "      <td>39.715133</td>\n",
       "      <td>6.916310</td>\n",
       "      <td>0</td>\n",
       "    </tr>\n",
       "    <tr>\n",
       "      <th>2497</th>\n",
       "      <td>28.108274</td>\n",
       "      <td>43.817178</td>\n",
       "      <td>2.897128</td>\n",
       "      <td>75.842952</td>\n",
       "      <td>6.906874</td>\n",
       "      <td>0</td>\n",
       "    </tr>\n",
       "    <tr>\n",
       "      <th>2498</th>\n",
       "      <td>14.789275</td>\n",
       "      <td>57.908105</td>\n",
       "      <td>2.374717</td>\n",
       "      <td>2.378743</td>\n",
       "      <td>6.953208</td>\n",
       "      <td>0</td>\n",
       "    </tr>\n",
       "    <tr>\n",
       "      <th>2499</th>\n",
       "      <td>26.554356</td>\n",
       "      <td>97.101517</td>\n",
       "      <td>18.563084</td>\n",
       "      <td>81.357508</td>\n",
       "      <td>6.909483</td>\n",
       "      <td>0</td>\n",
       "    </tr>\n",
       "  </tbody>\n",
       "</table>\n",
       "<p>2500 rows × 6 columns</p>\n",
       "</div>"
      ],
      "text/plain": [
       "      Temperature   Humidity  Wind_Speed  Cloud_Cover  Pressure  Rain\n",
       "0       23.720338  89.592641    7.335604    50.501694  6.939621     1\n",
       "1       27.879734  46.489704    5.952484     4.990053  6.900342     0\n",
       "2       25.069084  83.072843    1.371992    14.855784  6.914961     0\n",
       "3       23.622080  74.367758    7.050551    67.255282  6.890235     1\n",
       "4       20.591370  96.858822    4.643921    47.676444  6.888394     0\n",
       "...           ...        ...         ...          ...       ...   ...\n",
       "2495    21.791602  45.270902   11.807192    55.044682  6.925287     0\n",
       "2496    27.558479  46.481744   10.884915    39.715133  6.916310     0\n",
       "2497    28.108274  43.817178    2.897128    75.842952  6.906874     0\n",
       "2498    14.789275  57.908105    2.374717     2.378743  6.953208     0\n",
       "2499    26.554356  97.101517   18.563084    81.357508  6.909483     0\n",
       "\n",
       "[2500 rows x 6 columns]"
      ]
     },
     "execution_count": 23,
     "metadata": {},
     "output_type": "execute_result"
    }
   ],
   "source": [
    "df['Pressure'] = np.log(df['Pressure'])\n",
    "df"
   ]
  },
  {
   "cell_type": "code",
   "execution_count": 26,
   "metadata": {},
   "outputs": [],
   "source": [
    "X = df.drop(['Rain'], axis=1)\n",
    "y = df['Rain']"
   ]
  },
  {
   "cell_type": "code",
   "execution_count": 28,
   "metadata": {},
   "outputs": [],
   "source": [
    "from sklearn.preprocessing import MinMaxScaler\n",
    "scaler = MinMaxScaler()\n",
    "\n",
    "tmp = scaler.fit_transform(X)\n",
    "\n",
    "X = pd.DataFrame(tmp, columns=X.columns)"
   ]
  },
  {
   "cell_type": "code",
   "execution_count": 31,
   "metadata": {},
   "outputs": [],
   "source": [
    "y = y.squeeze()"
   ]
  },
  {
   "cell_type": "code",
   "execution_count": 33,
   "metadata": {},
   "outputs": [
    {
     "data": {
      "text/plain": [
       "(2500,)"
      ]
     },
     "execution_count": 33,
     "metadata": {},
     "output_type": "execute_result"
    }
   ],
   "source": [
    "y.shape"
   ]
  },
  {
   "cell_type": "code",
   "execution_count": 58,
   "metadata": {},
   "outputs": [],
   "source": [
    "#모델링\n",
    "\n",
    "from sklearn.model_selection import KFold, StratifiedKFold, GridSearchCV, train_test_split\n",
    "from sklearn.decomposition import PCA\n",
    "from sklearn.metrics import accuracy_score, roc_curve, roc_auc_score, confusion_matrix\n",
    "from sklearn.ensemble import RandomForestClassifier, GradientBoostingClassifier, AdaBoostClassifier, VotingClassifier\n",
    "from sklearn.linear_model import LogisticRegression"
   ]
  },
  {
   "cell_type": "code",
   "execution_count": 35,
   "metadata": {},
   "outputs": [],
   "source": [
    "X_train, X_test, y_train, y_test = train_test_split(X, y, random_state=42)"
   ]
  },
  {
   "cell_type": "code",
   "execution_count": 37,
   "metadata": {},
   "outputs": [
    {
     "name": "stdout",
     "output_type": "stream",
     "text": [
      "1.0\n"
     ]
    },
    {
     "data": {
      "image/png": "[encoded data removed]",
      "text/plain": [
       "<Figure size 640x480 with 1 Axes>"
      ]
     },
     "metadata": {},
     "output_type": "display_data"
    }
   ],
   "source": [
    "sample_model = GradientBoostingClassifier()\n",
    "\n",
    "sample_model.fit(X_train, y_train)\n",
    "pred = sample_model.predict_proba(X_test)\n",
    "\n",
    "auc = roc_auc_score(y_test, pred[:, 1])\n",
    "fpr, tpr, _ = roc_curve(y_test, pred[:,1])\n",
    "\n",
    "plt.plot(fpr, tpr)\n",
    "\n",
    "print(auc)"
   ]
  },
  {
   "cell_type": "code",
   "execution_count": 40,
   "metadata": {},
   "outputs": [
    {
     "data": {
      "text/html": [
       "<div>\n",
       "<style scoped>\n",
       "    .dataframe tbody tr th:only-of-type {\n",
       "        vertical-align: middle;\n",
       "    }\n",
       "\n",
       "    .dataframe tbody tr th {\n",
       "        vertical-align: top;\n",
       "    }\n",
       "\n",
       "    .dataframe thead th {\n",
       "        text-align: right;\n",
       "    }\n",
       "</style>\n",
       "<table border=\"1\" class=\"dataframe\">\n",
       "  <thead>\n",
       "    <tr style=\"text-align: right;\">\n",
       "      <th></th>\n",
       "      <th>Temperature</th>\n",
       "      <th>Humidity</th>\n",
       "      <th>Wind_Speed</th>\n",
       "      <th>Cloud_Cover</th>\n",
       "      <th>Pressure</th>\n",
       "    </tr>\n",
       "  </thead>\n",
       "  <tbody>\n",
       "    <tr>\n",
       "      <th>0</th>\n",
       "      <td>0.447501</td>\n",
       "      <td>0.215225</td>\n",
       "      <td>3.846005e-16</td>\n",
       "      <td>0.337274</td>\n",
       "      <td>0.0</td>\n",
       "    </tr>\n",
       "  </tbody>\n",
       "</table>\n",
       "</div>"
      ],
      "text/plain": [
       "   Temperature  Humidity    Wind_Speed  Cloud_Cover  Pressure\n",
       "0     0.447501  0.215225  3.846005e-16     0.337274       0.0"
      ]
     },
     "execution_count": 40,
     "metadata": {},
     "output_type": "execute_result"
    }
   ],
   "source": [
    "important = sample_model.feature_importances_\n",
    "import_df = pd.DataFrame(important.reshape(1, -1), columns=[col for col in X.columns])\n",
    "import_df"
   ]
  },
  {
   "cell_type": "code",
   "execution_count": 41,
   "metadata": {},
   "outputs": [
    {
     "data": {
      "text/html": [
       "<div>\n",
       "<style scoped>\n",
       "    .dataframe tbody tr th:only-of-type {\n",
       "        vertical-align: middle;\n",
       "    }\n",
       "\n",
       "    .dataframe tbody tr th {\n",
       "        vertical-align: top;\n",
       "    }\n",
       "\n",
       "    .dataframe thead th {\n",
       "        text-align: right;\n",
       "    }\n",
       "</style>\n",
       "<table border=\"1\" class=\"dataframe\">\n",
       "  <thead>\n",
       "    <tr style=\"text-align: right;\">\n",
       "      <th></th>\n",
       "      <th>Temperature</th>\n",
       "      <th>Humidity</th>\n",
       "      <th>Wind_Speed</th>\n",
       "      <th>Cloud_Cover</th>\n",
       "      <th>Pressure</th>\n",
       "      <th>pca_0</th>\n",
       "      <th>pca_1</th>\n",
       "    </tr>\n",
       "  </thead>\n",
       "  <tbody>\n",
       "    <tr>\n",
       "      <th>0</th>\n",
       "      <td>0.548885</td>\n",
       "      <td>0.851343</td>\n",
       "      <td>0.366485</td>\n",
       "      <td>0.504954</td>\n",
       "      <td>0.754789</td>\n",
       "      <td>0.050783</td>\n",
       "      <td>0.018266</td>\n",
       "    </tr>\n",
       "    <tr>\n",
       "      <th>1</th>\n",
       "      <td>0.715305</td>\n",
       "      <td>0.235520</td>\n",
       "      <td>0.297292</td>\n",
       "      <td>0.049759</td>\n",
       "      <td>0.185236</td>\n",
       "      <td>-0.439760</td>\n",
       "      <td>-0.321972</td>\n",
       "    </tr>\n",
       "    <tr>\n",
       "      <th>2</th>\n",
       "      <td>0.602850</td>\n",
       "      <td>0.758193</td>\n",
       "      <td>0.068145</td>\n",
       "      <td>0.148433</td>\n",
       "      <td>0.397213</td>\n",
       "      <td>-0.458794</td>\n",
       "      <td>-0.177359</td>\n",
       "    </tr>\n",
       "    <tr>\n",
       "      <th>3</th>\n",
       "      <td>0.544954</td>\n",
       "      <td>0.633821</td>\n",
       "      <td>0.352225</td>\n",
       "      <td>0.672518</td>\n",
       "      <td>0.038677</td>\n",
       "      <td>-0.262982</td>\n",
       "      <td>-0.159416</td>\n",
       "    </tr>\n",
       "    <tr>\n",
       "      <th>4</th>\n",
       "      <td>0.423693</td>\n",
       "      <td>0.955157</td>\n",
       "      <td>0.231829</td>\n",
       "      <td>0.476696</td>\n",
       "      <td>0.011989</td>\n",
       "      <td>-0.541138</td>\n",
       "      <td>-0.034719</td>\n",
       "    </tr>\n",
       "    <tr>\n",
       "      <th>...</th>\n",
       "      <td>...</td>\n",
       "      <td>...</td>\n",
       "      <td>...</td>\n",
       "      <td>...</td>\n",
       "      <td>...</td>\n",
       "      <td>...</td>\n",
       "      <td>...</td>\n",
       "    </tr>\n",
       "    <tr>\n",
       "      <th>2495</th>\n",
       "      <td>0.471715</td>\n",
       "      <td>0.218107</td>\n",
       "      <td>0.590184</td>\n",
       "      <td>0.550391</td>\n",
       "      <td>0.546942</td>\n",
       "      <td>0.161838</td>\n",
       "      <td>0.029001</td>\n",
       "    </tr>\n",
       "    <tr>\n",
       "      <th>2496</th>\n",
       "      <td>0.702452</td>\n",
       "      <td>0.235407</td>\n",
       "      <td>0.544045</td>\n",
       "      <td>0.397069</td>\n",
       "      <td>0.416769</td>\n",
       "      <td>-0.002359</td>\n",
       "      <td>-0.214712</td>\n",
       "    </tr>\n",
       "    <tr>\n",
       "      <th>2497</th>\n",
       "      <td>0.724449</td>\n",
       "      <td>0.197337</td>\n",
       "      <td>0.144443</td>\n",
       "      <td>0.758410</td>\n",
       "      <td>0.279952</td>\n",
       "      <td>0.035513</td>\n",
       "      <td>-0.393160</td>\n",
       "    </tr>\n",
       "    <tr>\n",
       "      <th>2498</th>\n",
       "      <td>0.191548</td>\n",
       "      <td>0.398658</td>\n",
       "      <td>0.118308</td>\n",
       "      <td>0.023641</td>\n",
       "      <td>0.951810</td>\n",
       "      <td>-0.124237</td>\n",
       "      <td>0.291875</td>\n",
       "    </tr>\n",
       "    <tr>\n",
       "      <th>2499</th>\n",
       "      <td>0.662276</td>\n",
       "      <td>0.958625</td>\n",
       "      <td>0.928159</td>\n",
       "      <td>0.813565</td>\n",
       "      <td>0.317782</td>\n",
       "      <td>0.101932</td>\n",
       "      <td>-0.024769</td>\n",
       "    </tr>\n",
       "  </tbody>\n",
       "</table>\n",
       "<p>2500 rows × 7 columns</p>\n",
       "</div>"
      ],
      "text/plain": [
       "      Temperature  Humidity  Wind_Speed  Cloud_Cover  Pressure     pca_0  \\\n",
       "0        0.548885  0.851343    0.366485     0.504954  0.754789  0.050783   \n",
       "1        0.715305  0.235520    0.297292     0.049759  0.185236 -0.439760   \n",
       "2        0.602850  0.758193    0.068145     0.148433  0.397213 -0.458794   \n",
       "3        0.544954  0.633821    0.352225     0.672518  0.038677 -0.262982   \n",
       "4        0.423693  0.955157    0.231829     0.476696  0.011989 -0.541138   \n",
       "...           ...       ...         ...          ...       ...       ...   \n",
       "2495     0.471715  0.218107    0.590184     0.550391  0.546942  0.161838   \n",
       "2496     0.702452  0.235407    0.544045     0.397069  0.416769 -0.002359   \n",
       "2497     0.724449  0.197337    0.144443     0.758410  0.279952  0.035513   \n",
       "2498     0.191548  0.398658    0.118308     0.023641  0.951810 -0.124237   \n",
       "2499     0.662276  0.958625    0.928159     0.813565  0.317782  0.101932   \n",
       "\n",
       "         pca_1  \n",
       "0     0.018266  \n",
       "1    -0.321972  \n",
       "2    -0.177359  \n",
       "3    -0.159416  \n",
       "4    -0.034719  \n",
       "...        ...  \n",
       "2495  0.029001  \n",
       "2496 -0.214712  \n",
       "2497 -0.393160  \n",
       "2498  0.291875  \n",
       "2499 -0.024769  \n",
       "\n",
       "[2500 rows x 7 columns]"
      ]
     },
     "execution_count": 41,
     "metadata": {},
     "output_type": "execute_result"
    }
   ],
   "source": [
    "candidate_col = [\"Temperature\", \"Wind_Speed\"]\n",
    "\n",
    "pca = PCA(n_components=2)\n",
    "tmp = X.copy()\n",
    "\n",
    "pca_result = pca.fit_transform(tmp)\n",
    "pca_col = ['pca_' + str(i) for i in range(pca_result.shape[-1])]\n",
    "pca_df = pd.DataFrame(pca_result, columns=pca_col).reset_index(drop=True)\n",
    "\n",
    "X = pd.concat((X, pca_df), axis=1)\n",
    "X"
   ]
  },
  {
   "cell_type": "code",
   "execution_count": 42,
   "metadata": {},
   "outputs": [
    {
     "data": {
      "text/html": [
       "<div>\n",
       "<style scoped>\n",
       "    .dataframe tbody tr th:only-of-type {\n",
       "        vertical-align: middle;\n",
       "    }\n",
       "\n",
       "    .dataframe tbody tr th {\n",
       "        vertical-align: top;\n",
       "    }\n",
       "\n",
       "    .dataframe thead th {\n",
       "        text-align: right;\n",
       "    }\n",
       "</style>\n",
       "<table border=\"1\" class=\"dataframe\">\n",
       "  <thead>\n",
       "    <tr style=\"text-align: right;\">\n",
       "      <th></th>\n",
       "      <th>Temperature</th>\n",
       "      <th>Humidity</th>\n",
       "      <th>Wind_Speed</th>\n",
       "      <th>Cloud_Cover</th>\n",
       "      <th>Pressure</th>\n",
       "      <th>pca_0</th>\n",
       "      <th>pca_1</th>\n",
       "      <th>mean</th>\n",
       "      <th>max</th>\n",
       "      <th>min</th>\n",
       "      <th>std</th>\n",
       "    </tr>\n",
       "  </thead>\n",
       "  <tbody>\n",
       "    <tr>\n",
       "      <th>0</th>\n",
       "      <td>0.548885</td>\n",
       "      <td>0.851343</td>\n",
       "      <td>0.366485</td>\n",
       "      <td>0.504954</td>\n",
       "      <td>0.754789</td>\n",
       "      <td>0.050783</td>\n",
       "      <td>0.018266</td>\n",
       "      <td>0.457685</td>\n",
       "      <td>0.548885</td>\n",
       "      <td>0.366485</td>\n",
       "      <td>0.457685</td>\n",
       "    </tr>\n",
       "    <tr>\n",
       "      <th>1</th>\n",
       "      <td>0.715305</td>\n",
       "      <td>0.235520</td>\n",
       "      <td>0.297292</td>\n",
       "      <td>0.049759</td>\n",
       "      <td>0.185236</td>\n",
       "      <td>-0.439760</td>\n",
       "      <td>-0.321972</td>\n",
       "      <td>0.506299</td>\n",
       "      <td>0.715305</td>\n",
       "      <td>0.297292</td>\n",
       "      <td>0.506299</td>\n",
       "    </tr>\n",
       "    <tr>\n",
       "      <th>2</th>\n",
       "      <td>0.602850</td>\n",
       "      <td>0.758193</td>\n",
       "      <td>0.068145</td>\n",
       "      <td>0.148433</td>\n",
       "      <td>0.397213</td>\n",
       "      <td>-0.458794</td>\n",
       "      <td>-0.177359</td>\n",
       "      <td>0.335497</td>\n",
       "      <td>0.602850</td>\n",
       "      <td>0.068145</td>\n",
       "      <td>0.335497</td>\n",
       "    </tr>\n",
       "    <tr>\n",
       "      <th>3</th>\n",
       "      <td>0.544954</td>\n",
       "      <td>0.633821</td>\n",
       "      <td>0.352225</td>\n",
       "      <td>0.672518</td>\n",
       "      <td>0.038677</td>\n",
       "      <td>-0.262982</td>\n",
       "      <td>-0.159416</td>\n",
       "      <td>0.448589</td>\n",
       "      <td>0.544954</td>\n",
       "      <td>0.352225</td>\n",
       "      <td>0.448589</td>\n",
       "    </tr>\n",
       "    <tr>\n",
       "      <th>4</th>\n",
       "      <td>0.423693</td>\n",
       "      <td>0.955157</td>\n",
       "      <td>0.231829</td>\n",
       "      <td>0.476696</td>\n",
       "      <td>0.011989</td>\n",
       "      <td>-0.541138</td>\n",
       "      <td>-0.034719</td>\n",
       "      <td>0.327761</td>\n",
       "      <td>0.423693</td>\n",
       "      <td>0.231829</td>\n",
       "      <td>0.327761</td>\n",
       "    </tr>\n",
       "    <tr>\n",
       "      <th>...</th>\n",
       "      <td>...</td>\n",
       "      <td>...</td>\n",
       "      <td>...</td>\n",
       "      <td>...</td>\n",
       "      <td>...</td>\n",
       "      <td>...</td>\n",
       "      <td>...</td>\n",
       "      <td>...</td>\n",
       "      <td>...</td>\n",
       "      <td>...</td>\n",
       "      <td>...</td>\n",
       "    </tr>\n",
       "    <tr>\n",
       "      <th>2495</th>\n",
       "      <td>0.471715</td>\n",
       "      <td>0.218107</td>\n",
       "      <td>0.590184</td>\n",
       "      <td>0.550391</td>\n",
       "      <td>0.546942</td>\n",
       "      <td>0.161838</td>\n",
       "      <td>0.029001</td>\n",
       "      <td>0.530950</td>\n",
       "      <td>0.590184</td>\n",
       "      <td>0.471715</td>\n",
       "      <td>0.530950</td>\n",
       "    </tr>\n",
       "    <tr>\n",
       "      <th>2496</th>\n",
       "      <td>0.702452</td>\n",
       "      <td>0.235407</td>\n",
       "      <td>0.544045</td>\n",
       "      <td>0.397069</td>\n",
       "      <td>0.416769</td>\n",
       "      <td>-0.002359</td>\n",
       "      <td>-0.214712</td>\n",
       "      <td>0.623249</td>\n",
       "      <td>0.702452</td>\n",
       "      <td>0.544045</td>\n",
       "      <td>0.623249</td>\n",
       "    </tr>\n",
       "    <tr>\n",
       "      <th>2497</th>\n",
       "      <td>0.724449</td>\n",
       "      <td>0.197337</td>\n",
       "      <td>0.144443</td>\n",
       "      <td>0.758410</td>\n",
       "      <td>0.279952</td>\n",
       "      <td>0.035513</td>\n",
       "      <td>-0.393160</td>\n",
       "      <td>0.434446</td>\n",
       "      <td>0.724449</td>\n",
       "      <td>0.144443</td>\n",
       "      <td>0.434446</td>\n",
       "    </tr>\n",
       "    <tr>\n",
       "      <th>2498</th>\n",
       "      <td>0.191548</td>\n",
       "      <td>0.398658</td>\n",
       "      <td>0.118308</td>\n",
       "      <td>0.023641</td>\n",
       "      <td>0.951810</td>\n",
       "      <td>-0.124237</td>\n",
       "      <td>0.291875</td>\n",
       "      <td>0.154928</td>\n",
       "      <td>0.191548</td>\n",
       "      <td>0.118308</td>\n",
       "      <td>0.154928</td>\n",
       "    </tr>\n",
       "    <tr>\n",
       "      <th>2499</th>\n",
       "      <td>0.662276</td>\n",
       "      <td>0.958625</td>\n",
       "      <td>0.928159</td>\n",
       "      <td>0.813565</td>\n",
       "      <td>0.317782</td>\n",
       "      <td>0.101932</td>\n",
       "      <td>-0.024769</td>\n",
       "      <td>0.795218</td>\n",
       "      <td>0.928159</td>\n",
       "      <td>0.662276</td>\n",
       "      <td>0.795218</td>\n",
       "    </tr>\n",
       "  </tbody>\n",
       "</table>\n",
       "<p>2500 rows × 11 columns</p>\n",
       "</div>"
      ],
      "text/plain": [
       "      Temperature  Humidity  Wind_Speed  Cloud_Cover  Pressure     pca_0  \\\n",
       "0        0.548885  0.851343    0.366485     0.504954  0.754789  0.050783   \n",
       "1        0.715305  0.235520    0.297292     0.049759  0.185236 -0.439760   \n",
       "2        0.602850  0.758193    0.068145     0.148433  0.397213 -0.458794   \n",
       "3        0.544954  0.633821    0.352225     0.672518  0.038677 -0.262982   \n",
       "4        0.423693  0.955157    0.231829     0.476696  0.011989 -0.541138   \n",
       "...           ...       ...         ...          ...       ...       ...   \n",
       "2495     0.471715  0.218107    0.590184     0.550391  0.546942  0.161838   \n",
       "2496     0.702452  0.235407    0.544045     0.397069  0.416769 -0.002359   \n",
       "2497     0.724449  0.197337    0.144443     0.758410  0.279952  0.035513   \n",
       "2498     0.191548  0.398658    0.118308     0.023641  0.951810 -0.124237   \n",
       "2499     0.662276  0.958625    0.928159     0.813565  0.317782  0.101932   \n",
       "\n",
       "         pca_1      mean       max       min       std  \n",
       "0     0.018266  0.457685  0.548885  0.366485  0.457685  \n",
       "1    -0.321972  0.506299  0.715305  0.297292  0.506299  \n",
       "2    -0.177359  0.335497  0.602850  0.068145  0.335497  \n",
       "3    -0.159416  0.448589  0.544954  0.352225  0.448589  \n",
       "4    -0.034719  0.327761  0.423693  0.231829  0.327761  \n",
       "...        ...       ...       ...       ...       ...  \n",
       "2495  0.029001  0.530950  0.590184  0.471715  0.530950  \n",
       "2496 -0.214712  0.623249  0.702452  0.544045  0.623249  \n",
       "2497 -0.393160  0.434446  0.724449  0.144443  0.434446  \n",
       "2498  0.291875  0.154928  0.191548  0.118308  0.154928  \n",
       "2499 -0.024769  0.795218  0.928159  0.662276  0.795218  \n",
       "\n",
       "[2500 rows x 11 columns]"
      ]
     },
     "execution_count": 42,
     "metadata": {},
     "output_type": "execute_result"
    }
   ],
   "source": [
    "X['mean'] = X[candidate_col].mean(axis=1)\n",
    "X['max'] = X[candidate_col].max(axis=1)\n",
    "X['min'] = X[candidate_col].min(axis=1)\n",
    "X['std'] = X[candidate_col].mean(axis=1)\n",
    "X"
   ]
  },
  {
   "cell_type": "code",
   "execution_count": 44,
   "metadata": {},
   "outputs": [],
   "source": [
    "X_train, X_test, y_train, y_test = train_test_split(X, y, test_size=0.2, random_state=42)"
   ]
  },
  {
   "cell_type": "code",
   "execution_count": 45,
   "metadata": {},
   "outputs": [],
   "source": [
    "rfc = RandomForestClassifier()\n",
    "abc = AdaBoostClassifier()\n",
    "gbc = GradientBoostingClassifier()\n",
    "lc = LogisticRegression()"
   ]
  },
  {
   "cell_type": "code",
   "execution_count": 49,
   "metadata": {},
   "outputs": [
    {
     "data": {
      "text/html": [
       "<div>\n",
       "<style scoped>\n",
       "    .dataframe tbody tr th:only-of-type {\n",
       "        vertical-align: middle;\n",
       "    }\n",
       "\n",
       "    .dataframe tbody tr th {\n",
       "        vertical-align: top;\n",
       "    }\n",
       "\n",
       "    .dataframe thead th {\n",
       "        text-align: right;\n",
       "    }\n",
       "</style>\n",
       "<table border=\"1\" class=\"dataframe\">\n",
       "  <thead>\n",
       "    <tr style=\"text-align: right;\">\n",
       "      <th></th>\n",
       "      <th>acc</th>\n",
       "      <th>aucs</th>\n",
       "    </tr>\n",
       "  </thead>\n",
       "  <tbody>\n",
       "    <tr>\n",
       "      <th>LogisticRegression</th>\n",
       "      <td>0.930</td>\n",
       "      <td>0.957546</td>\n",
       "    </tr>\n",
       "    <tr>\n",
       "      <th>RandomForestClassifier</th>\n",
       "      <td>0.996</td>\n",
       "      <td>0.957546</td>\n",
       "    </tr>\n",
       "    <tr>\n",
       "      <th>AdaBoostClassifier</th>\n",
       "      <td>0.998</td>\n",
       "      <td>0.957546</td>\n",
       "    </tr>\n",
       "    <tr>\n",
       "      <th>GradientBoostingClassifier</th>\n",
       "      <td>1.000</td>\n",
       "      <td>0.957546</td>\n",
       "    </tr>\n",
       "  </tbody>\n",
       "</table>\n",
       "</div>"
      ],
      "text/plain": [
       "                              acc      aucs\n",
       "LogisticRegression          0.930  0.957546\n",
       "RandomForestClassifier      0.996  0.957546\n",
       "AdaBoostClassifier          0.998  0.957546\n",
       "GradientBoostingClassifier  1.000  0.957546"
      ]
     },
     "execution_count": 49,
     "metadata": {},
     "output_type": "execute_result"
    }
   ],
   "source": [
    "models = [rfc, abc, gbc, lc]\n",
    "accs, aucs = [], []\n",
    "\n",
    "for model in models:\n",
    "    model.fit(X_train, y_train)\n",
    "    pred = model.predict_proba(X_test)\n",
    "    \n",
    "    acc = accuracy_score(y_test, np.argmax(pred, axis=1))\n",
    "    auc = roc_auc_score(y_test, pred[:, 1])\n",
    "    accs.append(acc)\n",
    "    aucs.append(auc)\n",
    "    \n",
    "result = pd.DataFrame({'acc':accs, 'aucs':auc}, index=[type(model).__name__ for model in models]).sort_values(by='acc')\n",
    "result"
   ]
  },
  {
   "cell_type": "code",
   "execution_count": 50,
   "metadata": {},
   "outputs": [],
   "source": [
    "models = { \n",
    "        'RandomForestClassifier' : (RandomForestClassifier(), {\n",
    "            'max_depth' : [5, 10, 20],\n",
    "            'min_samples_leaf' : [5, 10]\n",
    "        }),\n",
    "        'AdaBoostClassifier' : (AdaBoostClassifier(), {\n",
    "            'learning_rate' : [1, 0.1, 0.01]}),\n",
    "        'GradientBoostingClassifier' : (GradientBoostingClassifier(), {\n",
    "            'max_depth' : [5, 10, 20],\n",
    "            'min_samples_leaf' : [5, 10]\n",
    "        })\n",
    "        }"
   ]
  },
  {
   "cell_type": "code",
   "execution_count": 52,
   "metadata": {},
   "outputs": [
    {
     "name": "stdout",
     "output_type": "stream",
     "text": [
      "RandomForestClassifier training\n",
      "Best param : {'max_depth': 20, 'min_samples_leaf': 5}\n",
      "1.0\n",
      "AdaBoostClassifier training\n",
      "Best param : {'learning_rate': 1}\n",
      "0.9940200388103442\n",
      "GradientBoostingClassifier training\n",
      "Best param : {'max_depth': 5, 'min_samples_leaf': 5}\n",
      "1.0\n"
     ]
    }
   ],
   "source": [
    "result = []\n",
    "\n",
    "for model_name, (model, params) in models.items():\n",
    "    search = GridSearchCV(model, params, scoring='accuracy')\n",
    "    search.fit(X_train, y_train)\n",
    "    print(f\"{model_name} training\")\n",
    "    \n",
    "    best_model = search.best_estimator_\n",
    "    best_param = search.best_params_\n",
    "    print(f\"Best param : {best_param}\")\n",
    "    \n",
    "    pred = best_model.predict_proba(X_test)\n",
    "    auc = roc_auc_score(y_test, pred[:, 1])\n",
    "    print(auc)"
   ]
  },
  {
   "cell_type": "code",
   "execution_count": 73,
   "metadata": {},
   "outputs": [
    {
     "name": "stdout",
     "output_type": "stream",
     "text": [
      "0_th acc score: 0.9925| auc score: 1.0\n",
      "1_th acc score: 0.9975| auc score: 1.0\n",
      "2_th acc score: 0.9975| auc score: 1.0\n",
      "3_th acc score: 0.995| auc score: 1.0\n",
      "4_th acc score: 0.99| auc score: 1.0\n",
      "Mean score: 1.0\n"
     ]
    }
   ],
   "source": [
    "train_rfc = np.zeros((len(X_train), 2))\n",
    "scores = []\n",
    "\n",
    "stk = StratifiedKFold(n_splits=5, shuffle=True, random_state=42)\n",
    "\n",
    "for i, (train_idx, test_idx) in enumerate(stk.split(X_train, y_train)):\n",
    "    X_train2, X_val = X_train.iloc[train_idx, :], X_train.iloc[test_idx, :]\n",
    "    y_train2, y_val = y_train.iloc[train_idx], y_train.iloc[test_idx]\n",
    "    \n",
    "    rf_model = RandomForestClassifier(max_depth=20, min_samples_leaf=5)\n",
    "    model.fit(X_train2, y_train2)\n",
    "    pred = model.predict(X_val)\n",
    "    proba = model.predict_proba(X_val)\n",
    "    \n",
    "    acc = accuracy_score(y_val, pred)\n",
    "    auc = roc_auc_score(y_val, proba[:, 1])\n",
    "    \n",
    "    print(str(i) + '_th acc score: ' + str(acc) + '| auc score: ' + str(auc))\n",
    "    scores.append(auc)\n",
    "    train_rfc[test_idx] += proba\n",
    "    \n",
    "print(f\"Mean score: {np.mean(scores)}\")"
   ]
  },
  {
   "cell_type": "code",
   "execution_count": 74,
   "metadata": {},
   "outputs": [
    {
     "data": {
      "text/plain": [
       "<AxesSubplot: >"
      ]
     },
     "execution_count": 74,
     "metadata": {},
     "output_type": "execute_result"
    },
    {
     "data": {
      "image/png": "[encoded data removed]",
      "text/plain": [
       "<Figure size 2500x1000 with 3 Axes>"
      ]
     },
     "metadata": {},
     "output_type": "display_data"
    }
   ],
   "source": [
    "fig, axes = plt.subplots(1, 2, figsize=(25,10))\n",
    "\n",
    "plt.subplot(1, 2, 1)\n",
    "fpr, tpr, _ = roc_curve(y_train, train_rfc[:,1])\n",
    "plt.plot(fpr, tpr)\n",
    "\n",
    "plt.subplot(1, 2, 2)\n",
    "confusion = confusion_matrix(y_train, np.argmax(train_rfc, axis=1))\n",
    "sns.heatmap(confusion, annot=True)"
   ]
  },
  {
   "cell_type": "code",
   "execution_count": 76,
   "metadata": {},
   "outputs": [
    {
     "name": "stdout",
     "output_type": "stream",
     "text": [
      "0_th acc score: 0.995| auc score: 1.0\n",
      "1_th acc score: 0.9975| auc score: 0.999831451205124\n",
      "2_th acc score: 1.0| auc score: 1.0\n",
      "3_th acc score: 1.0| auc score: 1.0\n",
      "4_th acc score: 0.99| auc score: 1.0\n",
      "Mean score: 0.9999662902410247\n"
     ]
    }
   ],
   "source": [
    "train_abc = np.zeros((len(X_train), 2))\n",
    "scores = []\n",
    "\n",
    "stk = StratifiedKFold(n_splits=5, shuffle=True, random_state=42)\n",
    "\n",
    "for i, (train_idx, test_idx) in enumerate(stk.split(X_train, y_train)):\n",
    "    X_train2, X_val = X_train.iloc[train_idx, :], X_train.iloc[test_idx, :]\n",
    "    y_train2, y_val = y_train.iloc[train_idx], y_train.iloc[test_idx]\n",
    "    \n",
    "    ab_model =AdaBoostClassifier(learning_rate= 1)\n",
    "    model.fit(X_train2, y_train2)\n",
    "    pred = model.predict(X_val)\n",
    "    proba = model.predict_proba(X_val)\n",
    "    \n",
    "    acc = accuracy_score(y_val, pred)\n",
    "    auc = roc_auc_score(y_val, proba[:, 1])\n",
    "    \n",
    "    print(str(i) + '_th acc score: ' + str(acc) + '| auc score: ' + str(auc))\n",
    "    scores.append(auc)\n",
    "    train_abc[test_idx] += proba\n",
    "    \n",
    "print(f\"Mean score: {np.mean(scores)}\")"
   ]
  },
  {
   "cell_type": "code",
   "execution_count": 86,
   "metadata": {},
   "outputs": [
    {
     "data": {
      "text/plain": [
       "Text(1340.0404040404037, 0.5, 'actual')"
      ]
     },
     "execution_count": 86,
     "metadata": {},
     "output_type": "execute_result"
    },
    {
     "data": {
      "image/png": "[encoded data removed]",
      "text/plain": [
       "<Figure size 2500x1000 with 3 Axes>"
      ]
     },
     "metadata": {},
     "output_type": "display_data"
    }
   ],
   "source": [
    "fig, axes = plt.subplots(1, 2, figsize=(25,10))\n",
    "\n",
    "plt.subplot(1,2,1)\n",
    "fpr2, tpr2, _ = roc_curve(y_train, train_abc[:,1])\n",
    "plt.plot(fpr, tpr)\n",
    "\n",
    "plt.subplot(1,2,2)\n",
    "confusion = confusion_matrix(y_train, np.argmax(train_abc, axis=1))\n",
    "sns.heatmap(confusion, annot=True)\n",
    "plt.xlabel(\"predicted\")\n",
    "plt.ylabel(\"actual\")"
   ]
  },
  {
   "cell_type": "code",
   "execution_count": 84,
   "metadata": {},
   "outputs": [
    {
     "name": "stdout",
     "output_type": "stream",
     "text": [
      "{i}_th acc score: {acc} | auc score: {auc}\n",
      "{i}_th acc score: {acc} | auc score: {auc}\n",
      "{i}_th acc score: {acc} | auc score: {auc}\n",
      "{i}_th acc score: {acc} | auc score: {auc}\n",
      "{i}_th acc score: {acc} | auc score: {auc}\n",
      "Mean auc score: 0.9977920107871228\n"
     ]
    }
   ],
   "source": [
    "train_gbc = np.zeros((len(X_train), 2))\n",
    "scores = []\n",
    "stk = StratifiedKFold(n_splits=5, shuffle=True, random_state=42)\n",
    "\n",
    "for i, (train_idx, test_idx) in enumerate(stk.split(X_train, y_train)):\n",
    "    X_train2, X_val = X_train.iloc[train_idx, :], X_train.iloc[test_idx, :]\n",
    "    y_train2, y_val = y_train.iloc[train_idx], y_train.iloc[test_idx]\n",
    "    \n",
    "    gb_model = GradientBoostingClassifier(max_depth=5, min_samples_leaf=5)\n",
    "    gb_model.fit(X_train2, y_train2)\n",
    "    \n",
    "    pred = gb_model.predict(X_val)\n",
    "    proba = gb_model.predict_proba(X_val)\n",
    "    \n",
    "    acc = accuracy_score(y_val, pred)\n",
    "    auc = roc_auc_score(y_val, proba[:, 1])\n",
    "    \n",
    "    print(f\"{i}_th acc score: {acc} | auc score: {auc}\")\n",
    "    \n",
    "    scores.append(auc)\n",
    "    train_gbc[test_idx] += proba\n",
    "    \n",
    "print(f\"Mean auc score: {np.mean(scores)}\")"
   ]
  },
  {
   "cell_type": "code",
   "execution_count": 87,
   "metadata": {},
   "outputs": [
    {
     "data": {
      "text/plain": [
       "Text(1340.0404040404037, 0.5, 'actual')"
      ]
     },
     "execution_count": 87,
     "metadata": {},
     "output_type": "execute_result"
    },
    {
     "data": {
      "image/png": "[encoded data removed]",
      "text/plain": [
       "<Figure size 2500x1000 with 3 Axes>"
      ]
     },
     "metadata": {},
     "output_type": "display_data"
    }
   ],
   "source": [
    "fig, axes = plt.subplots(1, 2, figsize=(25, 10))\n",
    "\n",
    "plt.subplot(1,2,1)\n",
    "fpr3, tpr3, _ = roc_curve(y_train, train_gbc[:, 1])\n",
    "plt.plot(fpr, tpr)\n",
    "\n",
    "plt.subplot(1,2,2)\n",
    "confusion = confusion_matrix(y_train, np.argmax(train_gbc, axis=1))\n",
    "sns.heatmap(confusion, annot=True)\n",
    "plt.xlabel(\"predicted\")\n",
    "plt.ylabel(\"actual\")"
   ]
  },
  {
   "cell_type": "code",
   "execution_count": 90,
   "metadata": {},
   "outputs": [
    {
     "data": {
      "text/plain": [
       "<matplotlib.legend.Legend at 0x7f32a61599a0>"
      ]
     },
     "execution_count": 90,
     "metadata": {},
     "output_type": "execute_result"
    },
    {
     "data": {
      "image/png": "[encoded data removed]",
      "text/plain": [
       "<Figure size 640x480 with 1 Axes>"
      ]
     },
     "metadata": {},
     "output_type": "display_data"
    }
   ],
   "source": [
    "plt.plot(fpr, tpr, color='r', label=\"rf\")\n",
    "plt.plot(fpr2, tpr2, color='g', label=\"ab\")\n",
    "plt.plot(fpr3, tpr3, color='b', label=\"gb\")\n",
    "plt.legend()"
   ]
  },
  {
   "cell_type": "code",
   "execution_count": 109,
   "metadata": {},
   "outputs": [
    {
     "name": "stdout",
     "output_type": "stream",
     "text": [
      "0th acc score : 1.0 | auc score: 1.0\n",
      "1th acc score : 0.9975 | auc score: 1.0\n",
      "2th acc score : 1.0 | auc score: 1.0\n",
      "3th acc score : 1.0 | auc score: 1.0\n",
      "4th acc score : 0.995 | auc score: 1.0\n",
      "Mean auc score : 1.0\n"
     ]
    }
   ],
   "source": [
    "final_train = np.zeros((len(X_train), 2))\n",
    "final_test = np.zeros((5, len(X_test), 2))\n",
    "scores = []\n",
    "\n",
    "stk = StratifiedKFold(n_splits=5, shuffle=True, random_state=42)\n",
    "for i, (train_idx, test_idx) in enumerate(stk.split(X_train, y_train)):\n",
    "    final = VotingClassifier(estimators=[('rf', rf_model), ('ab', ab_model), ('gb', gb_model)], voting='soft', weights=[3,2,1])\n",
    "    X_train2, X_val = X_train.iloc[train_idx, :], X_train.iloc[test_idx, :]\n",
    "    y_train2, y_val = y_train.iloc[train_idx], y_train.iloc[test_idx]\n",
    "    \n",
    "    final.fit(X_train2, y_train2)\n",
    "    pred = final.predict(X_val)\n",
    "    proba = final.predict_proba(X_val)\n",
    "    \n",
    "    acc = accuracy_score(y_val, pred)\n",
    "    auc = roc_auc_score(y_val, proba[:, 1])\n",
    "    \n",
    "    scores.append(auc)\n",
    "    final_train[test_idx] += proba\n",
    "    test_proba = final.predict_proba(X_test)\n",
    "    final_test[i] += test_proba\n",
    "    \n",
    "    print(f\"{i}th acc score : {acc} | auc score: {auc}\")\n",
    "print(f\"Mean auc score : {np.mean(scores)}\")"
   ]
  },
  {
   "cell_type": "code",
   "execution_count": 102,
   "metadata": {},
   "outputs": [
    {
     "data": {
      "text/plain": [
       "Text(1340.0404040404037, 0.5, 'Actual')"
      ]
     },
     "execution_count": 102,
     "metadata": {},
     "output_type": "execute_result"
    },
    {
     "data": {
      "image/png": "[encoded data removed]",
      "text/plain": [
       "<Figure size 2500x1000 with 3 Axes>"
      ]
     },
     "metadata": {},
     "output_type": "display_data"
    }
   ],
   "source": [
    "fig, axes = plt.subplots(1, 2, figsize=(25,10))\n",
    "\n",
    "plt.subplot(1, 2, 1)\n",
    "fpr, tpr, _ = roc_curve(y_train, final_train[:, 1])\n",
    "plt.plot(fpr, tpr)\n",
    "\n",
    "plt.subplot(1,2,2)\n",
    "confusion = confusion_matrix(y_train, np.argmax(final_train, axis=1))\n",
    "sns.heatmap(confusion, annot=True)\n",
    "plt.xlabel(\"Predicted\")\n",
    "plt.ylabel(\"Actual\")"
   ]
  },
  {
   "cell_type": "code",
   "execution_count": 105,
   "metadata": {},
   "outputs": [
    {
     "data": {
      "text/plain": [
       "(500, 2)"
      ]
     },
     "execution_count": 105,
     "metadata": {},
     "output_type": "execute_result"
    }
   ],
   "source": [
    "final_test = np.mean(final_test, axis=0)\n",
    "final_test.shape"
   ]
  },
  {
   "cell_type": "code",
   "execution_count": 110,
   "metadata": {},
   "outputs": [
    {
     "data": {
      "text/plain": [
       "array([[[9.99999033e-01, 9.67388562e-07],\n",
       "        [9.69821872e-01, 3.01781282e-02],\n",
       "        [7.19384451e-01, 2.80615549e-01],\n",
       "        ...,\n",
       "        [5.88246579e-02, 9.41175342e-01],\n",
       "        [9.65160441e-01, 3.48395591e-02],\n",
       "        [9.90189116e-01, 9.81088431e-03]],\n",
       "\n",
       "       [[9.99999033e-01, 9.67388562e-07],\n",
       "        [9.74417204e-01, 2.55827960e-02],\n",
       "        [3.49566069e-01, 6.50433931e-01],\n",
       "        ...,\n",
       "        [3.95462280e-02, 9.60453772e-01],\n",
       "        [9.70222108e-01, 2.97778918e-02],\n",
       "        [9.77901151e-01, 2.20988486e-02]],\n",
       "\n",
       "       [[9.99999033e-01, 9.67388562e-07],\n",
       "        [9.97907276e-01, 2.09272413e-03],\n",
       "        [7.13385741e-01, 2.86614259e-01],\n",
       "        ...,\n",
       "        [4.14786066e-02, 9.58521393e-01],\n",
       "        [9.83977789e-01, 1.60222113e-02],\n",
       "        [9.67058651e-01, 3.29413485e-02]],\n",
       "\n",
       "       [[9.99999037e-01, 9.62727773e-07],\n",
       "        [9.78702324e-01, 2.12976761e-02],\n",
       "        [7.11252697e-01, 2.88747303e-01],\n",
       "        ...,\n",
       "        [4.35110733e-02, 9.56488927e-01],\n",
       "        [9.89521310e-01, 1.04786895e-02],\n",
       "        [9.69248209e-01, 3.07517914e-02]],\n",
       "\n",
       "       [[9.99999037e-01, 9.62727773e-07],\n",
       "        [9.83217943e-01, 1.67820567e-02],\n",
       "        [9.41766657e-01, 5.82333434e-02],\n",
       "        ...,\n",
       "        [2.85818252e-02, 9.71418175e-01],\n",
       "        [9.54072450e-01, 4.59275501e-02],\n",
       "        [9.68692642e-01, 3.13073578e-02]]])"
      ]
     },
     "execution_count": 110,
     "metadata": {},
     "output_type": "execute_result"
    }
   ],
   "source": [
    "final_test"
   ]
  },
  {
   "cell_type": "code",
   "execution_count": 107,
   "metadata": {},
   "outputs": [
    {
     "data": {
      "text/html": [
       "<div>\n",
       "<style scoped>\n",
       "    .dataframe tbody tr th:only-of-type {\n",
       "        vertical-align: middle;\n",
       "    }\n",
       "\n",
       "    .dataframe tbody tr th {\n",
       "        vertical-align: top;\n",
       "    }\n",
       "\n",
       "    .dataframe thead th {\n",
       "        text-align: right;\n",
       "    }\n",
       "</style>\n",
       "<table border=\"1\" class=\"dataframe\">\n",
       "  <thead>\n",
       "    <tr style=\"text-align: right;\">\n",
       "      <th></th>\n",
       "      <th>final</th>\n",
       "    </tr>\n",
       "  </thead>\n",
       "  <tbody>\n",
       "    <tr>\n",
       "      <th>0</th>\n",
       "      <td>9.655242e-07</td>\n",
       "    </tr>\n",
       "    <tr>\n",
       "      <th>1</th>\n",
       "      <td>2.054671e-02</td>\n",
       "    </tr>\n",
       "    <tr>\n",
       "      <th>2</th>\n",
       "      <td>2.995575e-01</td>\n",
       "    </tr>\n",
       "    <tr>\n",
       "      <th>3</th>\n",
       "      <td>3.108089e-03</td>\n",
       "    </tr>\n",
       "    <tr>\n",
       "      <th>4</th>\n",
       "      <td>9.731877e-04</td>\n",
       "    </tr>\n",
       "    <tr>\n",
       "      <th>...</th>\n",
       "      <td>...</td>\n",
       "    </tr>\n",
       "    <tr>\n",
       "      <th>495</th>\n",
       "      <td>1.889346e-02</td>\n",
       "    </tr>\n",
       "    <tr>\n",
       "      <th>496</th>\n",
       "      <td>9.655242e-07</td>\n",
       "    </tr>\n",
       "    <tr>\n",
       "      <th>497</th>\n",
       "      <td>9.638361e-01</td>\n",
       "    </tr>\n",
       "    <tr>\n",
       "      <th>498</th>\n",
       "      <td>2.716800e-02</td>\n",
       "    </tr>\n",
       "    <tr>\n",
       "      <th>499</th>\n",
       "      <td>3.377756e-02</td>\n",
       "    </tr>\n",
       "  </tbody>\n",
       "</table>\n",
       "<p>500 rows × 1 columns</p>\n",
       "</div>"
      ],
      "text/plain": [
       "            final\n",
       "0    9.655242e-07\n",
       "1    2.054671e-02\n",
       "2    2.995575e-01\n",
       "3    3.108089e-03\n",
       "4    9.731877e-04\n",
       "..            ...\n",
       "495  1.889346e-02\n",
       "496  9.655242e-07\n",
       "497  9.638361e-01\n",
       "498  2.716800e-02\n",
       "499  3.377756e-02\n",
       "\n",
       "[500 rows x 1 columns]"
      ]
     },
     "execution_count": 107,
     "metadata": {},
     "output_type": "execute_result"
    }
   ],
   "source": [
    "submission = pd.DataFrame({\"final\": final_test[:, 1]})\n",
    "submission "
   ]
  }
 ],
 "metadata": {
  "kernelspec": {
   "display_name": "Python 3",
   "language": "python",
   "name": "python3"
  },
  "language_info": {
   "codemirror_mode": {
    "name": "ipython",
    "version": 3
   },
   "file_extension": ".py",
   "mimetype": "text/x-python",
   "name": "python",
   "nbconvert_exporter": "python",
   "pygments_lexer": "ipython3",
   "version": "3.8.10"
  }
 },
 "nbformat": 4,
 "nbformat_minor": 2
}
